{
  "nbformat": 4,
  "nbformat_minor": 0,
  "metadata": {
    "colab": {
      "name": "TD2.ipynb",
      "provenance": [],
      "collapsed_sections": []
    },
    "kernelspec": {
      "name": "python3",
      "display_name": "Python 3"
    }
  },
  "cells": [
    {
      "cell_type": "markdown",
      "metadata": {
        "id": "2eH4Q07v0dv8",
        "colab_type": "text"
      },
      "source": [
        "Nous allons commencer à créer le dataset comme nous l'avons fait dans le dernier TD."
      ]
    },
    {
      "cell_type": "code",
      "metadata": {
        "id": "SZmFpOys5yzw",
        "colab_type": "code",
        "colab": {}
      },
      "source": [
        "from google.colab import drive\n",
        "drive.mount('/content/drive')"
      ],
      "execution_count": null,
      "outputs": []
    },
    {
      "cell_type": "code",
      "metadata": {
        "id": "ErR5rBBDneHE",
        "colab_type": "code",
        "colab": {}
      },
      "source": [
        "import os\n",
        "import random\n",
        "import numpy as np\n",
        "from sklearn.model_selection import train_test_split\n",
        "from sklearn import preprocessing\n",
        "import glob\n",
        "from scipy.io import wavfile\n",
        "from tqdm  import tqdm\n",
        "import matplotlib.pyplot as plt\n",
        "\n",
        "dataset_path = \"/content/drive/My Drive/IA_MIAGE/google-speech-dataset/\"\n",
        "all_classes = os.listdir(dataset_path)\n",
        "all_classes.remove('.git')\n",
        "all_classes.remove('bird') #some outliers in dataset\n",
        "all_classes.remove('_lab_ressources_')\n",
        "all_classes.remove('_background_noise_')\n",
        "chosen_classes = [\"sheila\", \"nine\"]"
      ],
      "execution_count": null,
      "outputs": []
    },
    {
      "cell_type": "code",
      "metadata": {
        "id": "7ILE5gj562Db",
        "colab_type": "code",
        "colab": {}
      },
      "source": [
        "X = []\n",
        "for class_name in chosen_classes:\n",
        "  class_path = dataset_path + class_name\n",
        "  for audio_path in glob.glob(class_path + \"/*.wav\"):\n",
        "    X.append(audio_path)"
      ],
      "execution_count": null,
      "outputs": []
    },
    {
      "cell_type": "code",
      "metadata": {
        "id": "2MhH3ap563xS",
        "colab_type": "code",
        "colab": {}
      },
      "source": [
        "y = []\n",
        "for audio_path in X:\n",
        "  y.append(audio_path.split('/')[-2])\n",
        "print(y)"
      ],
      "execution_count": null,
      "outputs": []
    },
    {
      "cell_type": "code",
      "metadata": {
        "id": "BFi65QSH7Zni",
        "colab_type": "code",
        "colab": {}
      },
      "source": [
        "le = preprocessing.LabelEncoder()\n",
        "le.fit(y)\n",
        "y = le.transform(y)"
      ],
      "execution_count": null,
      "outputs": []
    },
    {
      "cell_type": "code",
      "metadata": {
        "id": "U03Ph-Pz67Vf",
        "colab_type": "code",
        "colab": {}
      },
      "source": [
        "X_train, X_test, y_train, y_test = train_test_split(...)## A completer avec le code du dernier TD\n",
        "X_test, X_val, y_test, y_val = train_test_split(...)## A completer avec le code du dernier TD\n",
        "\n",
        "print('training samples:',len(X_train))\n",
        "print('testing samples:',len(X_test))\n",
        "print('validation samples:',len(X_val))"
      ],
      "execution_count": null,
      "outputs": []
    },
    {
      "cell_type": "code",
      "metadata": {
        "id": "sTZxJ3zw6jPO",
        "colab_type": "code",
        "colab": {}
      },
      "source": [
        "def normalize(audio_signal):\n",
        "  audio_signal = ## A completer avec le code du dernier TD\n",
        "  max_value = ## A completer avec le code du dernier TD\n",
        "  norm_signal = ## A completer avec le code du dernier TD\n",
        "  return norm_signal"
      ],
      "execution_count": null,
      "outputs": []
    },
    {
      "cell_type": "code",
      "metadata": {
        "id": "HI47f3Tp6VKV",
        "colab_type": "code",
        "colab": {}
      },
      "source": [
        "def add_padding(audio_signal, desired_len):\n",
        "  \n",
        "  length_signal = len(audio_signal)\n",
        "  if length_signal < desired_len:\n",
        "    zeros = np.zeros(desired_len)\n",
        "    start_signal =## A completer avec le code du dernier TD\n",
        "    zeros[start_signal: start_signal + length_signal] = audio_signal\n",
        "    return zeros\n",
        "    \n",
        "  return audio_signal"
      ],
      "execution_count": null,
      "outputs": []
    },
    {
      "cell_type": "markdown",
      "metadata": {
        "id": "RrK900ePn-y6",
        "colab_type": "text"
      },
      "source": [
        "Maintenant, nous pouvons lire les signaux audio de notre ensemble de données. Nous normalisons tous les audios et ajoutons le padding aux échantillons de moins d'une minute."
      ]
    },
    {
      "cell_type": "code",
      "metadata": {
        "id": "DWATD1gs7Ml7",
        "colab_type": "code",
        "colab": {}
      },
      "source": [
        "def get_signal(signal_path):\n",
        "  \n",
        "  rate, sig = wavfile.read(filename=signal_path)\n",
        "  \n",
        "  try:\n",
        "    sig = sig[:, 0]\n",
        "  except:\n",
        "    pass\n",
        "  \n",
        "  #normalization\n",
        "  sig = normalize(sig)\n",
        "\n",
        "  #standardization of sizes\n",
        "  sig = add_padding(sig,16000)\n",
        "  \n",
        "  return sig"
      ],
      "execution_count": null,
      "outputs": []
    },
    {
      "cell_type": "code",
      "metadata": {
        "id": "ajS-rgUl71j4",
        "colab_type": "code",
        "colab": {}
      },
      "source": [
        "X_train_waveform = [get_signal(path) for path in tqdm(X_train,position=0)]\n",
        "X_test_waveform = [get_signal(path) for path in tqdm(X_test,position=0)]"
      ],
      "execution_count": null,
      "outputs": []
    },
    {
      "cell_type": "code",
      "metadata": {
        "id": "J8p0zsY19qFS",
        "colab_type": "code",
        "colab": {}
      },
      "source": [
        "X_train_waveform = np.asarray(X_train_waveform)\n",
        "X_test_waveform = np.asarray(X_test_waveform)"
      ],
      "execution_count": null,
      "outputs": []
    },
    {
      "cell_type": "markdown",
      "metadata": {
        "id": "bjYmHjwsoy2b",
        "colab_type": "text"
      },
      "source": [
        "scikit fournit également des bibliothèques pour les algorithmes d'apprentissage automatique. \n",
        "\n",
        "Vous pouvez d'abord essayer de classer les audios en utilisant directement le signal audio."
      ]
    },
    {
      "cell_type": "code",
      "metadata": {
        "id": "DD49PKRK8GRV",
        "colab_type": "code",
        "colab": {}
      },
      "source": [
        "from sklearn.neighbors import KNeighborsClassifier\n",
        "\n",
        "knn = KNeighborsClassifier(n_neighbors=3)\n",
        "knn.fit(X_train_waveform, y_train)"
      ],
      "execution_count": null,
      "outputs": []
    },
    {
      "cell_type": "markdown",
      "metadata": {
        "id": "F-hxcIpLpE_q",
        "colab_type": "text"
      },
      "source": [
        "Comme chaque audio a une longueur de 16000 points, knn doit créer un espace de 16000 dimensions. Pour le test, il doit calculer la distance dans toutes les dimensions, c'est pourquoi la partie test peut prendre quelques secondes."
      ]
    },
    {
      "cell_type": "code",
      "metadata": {
        "id": "mJJ_RI1e9YTg",
        "colab_type": "code",
        "colab": {}
      },
      "source": [
        "knn.score(X_test_waveform, y_test)"
      ],
      "execution_count": null,
      "outputs": []
    },
    {
      "cell_type": "markdown",
      "metadata": {
        "id": "FAbnEQLvpudH",
        "colab_type": "text"
      },
      "source": [
        "Essayez différentes valeurs de k, pour trouver la valeur qui donne le meilleur résultat."
      ]
    },
    {
      "cell_type": "code",
      "metadata": {
        "id": "X4SZlyqgpvlX",
        "colab_type": "code",
        "colab": {}
      },
      "source": [
        "k_to_try = ## A Completer\n",
        "knn = KNeighborsClassifier(n_neighbors=k_to_try)\n",
        "knn.fit(X_train_waveform, y_train)\n",
        "knn.score(X_test_waveform, y_test)"
      ],
      "execution_count": null,
      "outputs": []
    },
    {
      "cell_type": "markdown",
      "metadata": {
        "id": "rvpeXt6eqEb1",
        "colab_type": "text"
      },
      "source": [
        "Avec la fonction suivante, vous pouvez essayer différentes valeurs de k et tracer les résultats. Les paramètres de la fonction sont les suivants: \n",
        "\n",
        "from_k: Valeur initiale de k que vous voulez essayer\n",
        "\n",
        "to_k: Valeur finale de k que vous voulez essayer\n",
        "\n",
        "X_train: dataset d'entrainement\n",
        "\n",
        "X_test: dataset de test"
      ]
    },
    {
      "cell_type": "code",
      "metadata": {
        "id": "dVSyvDx2Pggu",
        "colab_type": "code",
        "colab": {}
      },
      "source": [
        "def check_results_different_k(from_k, to_k, X_train, X_test):\n",
        "  scores = []\n",
        "  k_values = []\n",
        "  for k in range(from_k, to_k):\n",
        "    knn = KNeighborsClassifier(n_neighbors=k)\n",
        "    knn.fit(X_train, y_train)\n",
        "    scores.append(knn.score(X_test, y_test))\n",
        "    k_values.append(k)\n",
        "  plt.plot(k_values, scores)\n",
        "  plt.show()"
      ],
      "execution_count": null,
      "outputs": []
    },
    {
      "cell_type": "code",
      "metadata": {
        "id": "9OWkeJRPqsys",
        "colab_type": "code",
        "colab": {}
      },
      "source": [
        "check_results_different_k(3, 10, X_train_waveform, X_test_waveform)"
      ],
      "execution_count": null,
      "outputs": []
    },
    {
      "cell_type": "markdown",
      "metadata": {
        "id": "cRpByUEArGF8",
        "colab_type": "text"
      },
      "source": [
        "Une stratégie pour réduire la taille du signal consiste à faire de l'échantillonnage.\n",
        "\n",
        "Faire un échantillonnage signifie prendre une valeur pour chaque échantillon. Par exemple, si vous faites un échantillonnage de 10, vous prenez la première valeur, puis vous sautez 9 valeurs et enfin vous prenez la valeur 11."
      ]
    },
    {
      "cell_type": "code",
      "metadata": {
        "id": "xEmnvotS97Ex",
        "colab_type": "code",
        "colab": {}
      },
      "source": [
        "def sampling(X, sampling_step):\n",
        "  signal_length = X.shape[1]\n",
        "  new_size = signal_length / sampling_step\n",
        "  indices_to_take = range(0, signal_length, sampling_step)\n",
        "  sampled_X = X[:,indices_to_take]\n",
        "  return sampled_X"
      ],
      "execution_count": null,
      "outputs": []
    },
    {
      "cell_type": "code",
      "metadata": {
        "id": "gRS3oFjvApdX",
        "colab_type": "code",
        "colab": {}
      },
      "source": [
        "sampling_step = 20\n",
        "X_train_sampled = sampling(X_train_waveform, sampling_step)\n",
        "X_test_sampled = sampling(X_test_waveform, sampling_step)\n",
        "\n",
        "print(\"Taille d'audio avant echantioolange: \", X_train_waveform.shape[1])\n",
        "print(\"Taille d'audio apres echantioolange: \", X_train_sampled.shape[1])"
      ],
      "execution_count": null,
      "outputs": []
    },
    {
      "cell_type": "code",
      "metadata": {
        "id": "4-t6fZ9LAyFJ",
        "colab_type": "code",
        "colab": {}
      },
      "source": [
        "knn_sampled = KNeighborsClassifier(n_neighbors=3)\n",
        "knn_sampled.fit(X_train_sampled, y_train)"
      ],
      "execution_count": null,
      "outputs": []
    },
    {
      "cell_type": "code",
      "metadata": {
        "id": "DxVF9j2TA_eU",
        "colab_type": "code",
        "colab": {}
      },
      "source": [
        "knn_sampled.score(X_test_sampled, y_test)"
      ],
      "execution_count": null,
      "outputs": []
    },
    {
      "cell_type": "markdown",
      "metadata": {
        "id": "lvGEV6CSsqfr",
        "colab_type": "text"
      },
      "source": [
        "Est-ce plus rapide ?\n",
        "\n",
        "Les résultats sont-ils meilleurs ?\n",
        "\n",
        "Essayez différents numéros d'échantillonnage"
      ]
    },
    {
      "cell_type": "code",
      "metadata": {
        "id": "mZ4LN9-ls-Gs",
        "colab_type": "code",
        "colab": {}
      },
      "source": [
        "sampling_step = ##A Completer\n",
        "X_train_sampled = sampling(X_train_waveform, sampling_step)\n",
        "X_test_sampled = sampling(X_test_waveform, sampling_step)\n",
        "knn_sampled = KNeighborsClassifier(n_neighbors=3)\n",
        "knn_sampled.fit(X_train_sampled, y_train)\n",
        "knn_sampled.score(X_test_sampled, y_test)"
      ],
      "execution_count": null,
      "outputs": []
    },
    {
      "cell_type": "markdown",
      "metadata": {
        "id": "7o6aqm7dtTNO",
        "colab_type": "text"
      },
      "source": [
        "N'oubliez pas que vous pouvez utiliser la fonction *check_results_different_k* pour vérifier quelle est la meilleure valeur k"
      ]
    },
    {
      "cell_type": "code",
      "metadata": {
        "id": "EM0v7DextYsz",
        "colab_type": "code",
        "colab": {}
      },
      "source": [
        "check_results_different_k(..., ..., X_train_sampled, X_test_sampled) # A completer"
      ],
      "execution_count": null,
      "outputs": []
    },
    {
      "cell_type": "markdown",
      "metadata": {
        "id": "3lslv242t0ZY",
        "colab_type": "text"
      },
      "source": [
        "Voyez-vous les problèmes de l'échantillonnage ? Nous perdons beaucoup d'informations qui pourraient être importantes pour prendre la décision de classification.\n",
        "\n",
        "Maybe it would be more clever to remove the frequencies where there is no information.\n",
        "\n",
        "Si vous vous souvenez, un moyen de voir les fréquences du signal est d'utiliser le spectrogramme\n",
        "\n",
        "*scipy* fournit le *signal* de bibliothèque qui contient de nombreuses fonctions utiles pour traiter les signaux.\n",
        "\n",
        "Vous pouvez voir le spectrogramme de certains audios."
      ]
    },
    {
      "cell_type": "code",
      "metadata": {
        "id": "oV7QePEVBrSz",
        "colab_type": "code",
        "colab": {}
      },
      "source": [
        "from scipy import signal\n",
        "import matplotlib.pyplot as plt\n",
        "\n",
        "sample_to_analyze = 100\n",
        "\n",
        "freqs, times, spectrogram = signal.spectrogram(X_train_waveform[sample_to_analyze])\n",
        "\n",
        "plt.pcolormesh(times, freqs, spectrogram, shading='gouraud')\n",
        "plt.ylabel('Frequency [Hz]')\n",
        "plt.xlabel('Time [sec]')\n",
        "plt.colorbar()\n",
        "plt.show()"
      ],
      "execution_count": null,
      "outputs": []
    },
    {
      "cell_type": "code",
      "metadata": {
        "id": "fsErqcxHDTLu",
        "colab_type": "code",
        "colab": {}
      },
      "source": [
        "sample_to_analyze = ## A Completer\n",
        "\n",
        "freqs, times, spectrogram = signal.spectrogram(X_train_waveform[sample_to_analyze])\n",
        "\n",
        "plt.pcolormesh(times, freqs, spectrogram, shading='gouraud')\n",
        "plt.ylabel('Frequency [Hz]')\n",
        "plt.xlabel('Time [sec]')\n",
        "plt.colorbar()\n",
        "plt.show()"
      ],
      "execution_count": null,
      "outputs": []
    },
    {
      "cell_type": "markdown",
      "metadata": {
        "id": "br9_dg-4wko0",
        "colab_type": "text"
      },
      "source": [
        "Après avoir regardé les spectrogrammes de plusieurs audios de notre ensemble de données, vous pouvez voir qu'il y a certaines fréquences pour lesquelles il n'y a pas d'information. \n",
        " \n",
        "Vous pouvez définir une limite et vous ne prenez que les valeurs en dessous de ces fréquences."
      ]
    },
    {
      "cell_type": "code",
      "metadata": {
        "id": "NYqglQDkDwlL",
        "colab_type": "code",
        "colab": {}
      },
      "source": [
        "limit_freq = # A completer\n",
        "freqs_to_keep = np.where(freqs <= limit_freq)[0]"
      ],
      "execution_count": null,
      "outputs": []
    },
    {
      "cell_type": "markdown",
      "metadata": {
        "id": "vbkGJJ0MxajR",
        "colab_type": "text"
      },
      "source": [
        "C'est la fonction qui permet de filtrer les fréquences, elle ne prendra que les valeurs inférieures à la limite que vous avez définie auparavant."
      ]
    },
    {
      "cell_type": "code",
      "metadata": {
        "id": "SH3HfT78Epky",
        "colab_type": "code",
        "colab": {}
      },
      "source": [
        "def filter_frequencies(X, freqs_to_keep):\n",
        "  new_X = []\n",
        "  for signal_wf in X:\n",
        "    freqs, times, spectrogram = signal.spectrogram(signal_wf)\n",
        "    filtered_spectrogram  = spectrogram[freqs_to_keep]\n",
        "    flatten_spectrogram = filtered_spectrogram.flatten()\n",
        "    new_X.append(flatten_spectrogram)\n",
        "  return np.asarray(new_X)"
      ],
      "execution_count": null,
      "outputs": []
    },
    {
      "cell_type": "code",
      "metadata": {
        "id": "CJ7BO6I7JXhs",
        "colab_type": "code",
        "colab": {}
      },
      "source": [
        "X_train_filtered = filter_frequencies(X_train_waveform, freqs_to_keep)\n",
        "X_test_filtered = filter_frequencies(X_test_waveform, freqs_to_keep)"
      ],
      "execution_count": null,
      "outputs": []
    },
    {
      "cell_type": "code",
      "metadata": {
        "id": "9yPWoLleKR-v",
        "colab_type": "code",
        "colab": {}
      },
      "source": [
        "knn_filtered = KNeighborsClassifier(n_neighbors=5)\n",
        "knn_filtered.fit(X_train_filtered, y_train)"
      ],
      "execution_count": null,
      "outputs": []
    },
    {
      "cell_type": "code",
      "metadata": {
        "id": "k55kOHgpKVwN",
        "colab_type": "code",
        "colab": {}
      },
      "source": [
        "knn_filtered.score(X_test_filtered, y_test)"
      ],
      "execution_count": null,
      "outputs": []
    },
    {
      "cell_type": "markdown",
      "metadata": {
        "id": "-700G1a_xxYs",
        "colab_type": "text"
      },
      "source": [
        "Est-ce plus rapide ?\n",
        "\n",
        "Les résultats sont-ils meilleurs ?\n",
        "\n",
        "N'oubliez pas que vous pouvez utiliser la fonction *check_results_different_k* pour vérifier quelle est la meilleure valeur k"
      ]
    },
    {
      "cell_type": "code",
      "metadata": {
        "id": "N4kJQUiwx30q",
        "colab_type": "code",
        "colab": {}
      },
      "source": [
        "check_results_different_k(..., ..., X_train_filtered, X_test_filtered) # A completer"
      ],
      "execution_count": null,
      "outputs": []
    },
    {
      "cell_type": "markdown",
      "metadata": {
        "id": "M6h3Kri5yRnP",
        "colab_type": "text"
      },
      "source": [
        "Comme nous l'avons vu dans le cours, les fonctionnalités du MFCC sont très populaires pour la reconnaissance vocale. \n",
        "\n",
        "sonopy fournit une fonction permettant d'extraire les caractéristiques du MFCC."
      ]
    },
    {
      "cell_type": "code",
      "metadata": {
        "id": "sz1w3VJ-MSwI",
        "colab_type": "code",
        "colab": {}
      },
      "source": [
        "!pip install sonopy\n",
        "from sonopy import mfcc_spec"
      ],
      "execution_count": null,
      "outputs": []
    },
    {
      "cell_type": "code",
      "metadata": {
        "id": "MGx-1R9BMU37",
        "colab_type": "code",
        "colab": {}
      },
      "source": [
        "def get_mfcc_from_signal(signal):\n",
        "\n",
        "  #extract MFCCs features\n",
        "  single_mfcc = mfcc_spec(signal, 16000, window_stride=(400, 160), fft_size=512, num_filt=20, num_coeffs=13).T\n",
        "\n",
        "  return single_mfcc"
      ],
      "execution_count": null,
      "outputs": []
    },
    {
      "cell_type": "code",
      "metadata": {
        "id": "sLaQ-GKsMU2j",
        "colab_type": "code",
        "colab": {}
      },
      "source": [
        "X_train_mfcc = [get_mfcc_from_signal(signal) for signal in tqdm(X_train_waveform,position=0)]\n",
        "X_test_mfcc = [get_mfcc_from_signal(signal) for signal in tqdm(X_test_waveform,position=0)]"
      ],
      "execution_count": null,
      "outputs": []
    },
    {
      "cell_type": "code",
      "metadata": {
        "id": "6ef0rNr9MeG-",
        "colab_type": "code",
        "colab": {}
      },
      "source": [
        "plt.figure(figsize=(12,4))\n",
        "plt.imshow(X_train_mfcc[0],cmap='Spectral')\n",
        "plt.title(\"MFCC (transposed)\")\n",
        "plt.ylabel('MFCC Coffiencts')\n",
        "plt.xlabel('Time [sec]')\n",
        "plt.show()\n",
        "\n",
        "print('shape (transposed):',np.array(X_train_mfcc[0]).shape)"
      ],
      "execution_count": null,
      "outputs": []
    },
    {
      "cell_type": "code",
      "metadata": {
        "id": "Ov_MtH5qND8H",
        "colab_type": "code",
        "colab": {}
      },
      "source": [
        "X_train_mfcc = np.asarray(X_train_mfcc)\n",
        "X_test_mfcc = np.asarray(X_test_mfcc)\n",
        "\n",
        "X_train_mfcc_flatten = X_train_mfcc.reshape(X_train_mfcc.shape[0], X_train_mfcc.shape[1] * X_train_mfcc.shape[2])\n",
        "X_test_mfcc_flatten = X_test_mfcc.reshape(X_test_mfcc.shape[0], X_test_mfcc.shape[1] * X_test_mfcc.shape[2])"
      ],
      "execution_count": null,
      "outputs": []
    },
    {
      "cell_type": "code",
      "metadata": {
        "id": "mbpUe_3XNIbr",
        "colab_type": "code",
        "colab": {}
      },
      "source": [
        "knn_mfcc = KNeighborsClassifier(n_neighbors=5)\n",
        "knn_mfcc.fit(X_train_mfcc_flatten, y_train)"
      ],
      "execution_count": null,
      "outputs": []
    },
    {
      "cell_type": "code",
      "metadata": {
        "id": "7WzuXAynPKaz",
        "colab_type": "code",
        "colab": {}
      },
      "source": [
        "knn_mfcc.score(X_test_mfcc_flatten, y_test)"
      ],
      "execution_count": null,
      "outputs": []
    },
    {
      "cell_type": "markdown",
      "metadata": {
        "id": "OBaKp0a7zNK6",
        "colab_type": "text"
      },
      "source": [
        "Est-ce plus rapide ?\n",
        "\n",
        "Les résultats sont-ils meilleurs ?\n",
        "\n",
        "N'oubliez pas que vous pouvez utiliser la fonction *check_results_different_k* pour vérifier quelle est la meilleure valeur k"
      ]
    },
    {
      "cell_type": "code",
      "metadata": {
        "id": "eoiXaggcQSWG",
        "colab_type": "code",
        "colab": {}
      },
      "source": [
        "check_results_different_k(..., ..., X_train_mfcc_flatten, X_test_mfcc_flatten) # A Completer"
      ],
      "execution_count": null,
      "outputs": []
    },
    {
      "cell_type": "markdown",
      "metadata": {
        "id": "lnDzzkjwzc-Y",
        "colab_type": "text"
      },
      "source": [
        "Le MFCC fournit 13 coefficients, peut-être que certains d'entre eux ne sont pas utiles pour classer vos audios.\n",
        "\n",
        "La fonction suivante prend du coefficient *start_coef* au coefficient *end_coef*."
      ]
    },
    {
      "cell_type": "code",
      "metadata": {
        "id": "SHj3ByRgzIu5",
        "colab_type": "code",
        "colab": {}
      },
      "source": [
        "def take_mfcc_coefs(start_coef, end_coef, X_mfcc):\n",
        "  return X_mfcc[:, start_coef: end_coef]\n"
      ],
      "execution_count": null,
      "outputs": []
    },
    {
      "cell_type": "code",
      "metadata": {
        "id": "YWpD5UIm0vGF",
        "colab_type": "code",
        "colab": {}
      },
      "source": [
        "from_coef = 5\n",
        "to_coef = 13\n",
        "X_train_mfcc_some_coef = take_mfcc_coefs(from_coef, to_coef, X_train_mfcc)\n",
        "X_test_mfcc_some_coef = take_mfcc_coefs(from_coef, to_coef, X_test_mfcc)\n",
        "\n",
        "X_train_mfcc_some_coef_flatten = X_train_mfcc_some_coef.reshape(X_train_mfcc_some_coef.shape[0], X_train_mfcc_some_coef.shape[1] * X_train_mfcc_some_coef.shape[2])\n",
        "X_test_mfcc_some_coef_flatten = X_test_mfcc_some_coef.reshape(X_test_mfcc_some_coef.shape[0], X_test_mfcc_some_coef.shape[1] * X_test_mfcc_some_coef.shape[2])\n"
      ],
      "execution_count": null,
      "outputs": []
    },
    {
      "cell_type": "code",
      "metadata": {
        "id": "tXlBQ9fh1K9g",
        "colab_type": "code",
        "colab": {}
      },
      "source": [
        "knn_mfcc = KNeighborsClassifier(n_neighbors=5)\n",
        "knn_mfcc.fit(X_train_mfcc_some_coef_flatten, y_train)\n",
        "knn_mfcc.score(X_test_mfcc_some_coef_flatten, y_test)"
      ],
      "execution_count": null,
      "outputs": []
    },
    {
      "cell_type": "markdown",
      "metadata": {
        "id": "iRslzMzu1mgB",
        "colab_type": "text"
      },
      "source": [
        "Les résultats sont-ils meilleurs ?\n",
        "\n",
        "N'oubliez pas que vous pouvez utiliser la fonction *check_results_different_k* pour vérifier quelle est la meilleure valeur k"
      ]
    },
    {
      "cell_type": "code",
      "metadata": {
        "id": "HQf6vhBz1pA8",
        "colab_type": "code",
        "colab": {}
      },
      "source": [
        "check_results_different_k(..., ..., X_train_mfcc_some_coef_flatten, X_test_mfcc_some_coef_flatten) # A Completer"
      ],
      "execution_count": null,
      "outputs": []
    },
    {
      "cell_type": "markdown",
      "metadata": {
        "id": "avLd_gvu19IN",
        "colab_type": "text"
      },
      "source": [
        "Vous pouvez essayer de vous débarrasser de certains coefficients pour voir si les résultats s'améliorent"
      ]
    },
    {
      "cell_type": "code",
      "metadata": {
        "id": "eO5scP481SIe",
        "colab_type": "code",
        "colab": {}
      },
      "source": [
        "from_coef = ## A Completer\n",
        "to_coef = ## A Completer\n",
        "X_train_mfcc_some_coef = take_mfcc_coefs(from_coef, to_coef, X_train_mfcc)\n",
        "X_test_mfcc_some_coef = take_mfcc_coefs(from_coef, to_coef, X_test_mfcc)\n",
        "\n",
        "X_train_mfcc_some_flatten = X_train_mfcc_some_coef.reshape(X_train_mfcc_some_coef.shape[0], X_train_mfcc_some_coef.shape[1] * X_train_mfcc_some_coef.shape[2])\n",
        "X_test_mfcc_some_coef_flatten = X_test_mfcc_some_coef.reshape(X_test_mfcc_some_coef.shape[0], X_test_mfcc_some_coef.shape[1] * X_test_mfcc_some_coef.shape[2])\n",
        "\n",
        "knn_mfcc = KNeighborsClassifier(n_neighbors=5)\n",
        "knn_mfcc.fit(X_train_mfcc_some_flatten, y_train)\n",
        "knn_mfcc.score(X_test_mfcc_some_coef_flatten, y_test)"
      ],
      "execution_count": null,
      "outputs": []
    },
    {
      "cell_type": "markdown",
      "metadata": {
        "id": "cb3C-Zl_2PKQ",
        "colab_type": "text"
      },
      "source": [
        "sklearn fournit d'autres algorithmes basés sur les voisins come NearestCentroid."
      ]
    },
    {
      "cell_type": "code",
      "metadata": {
        "id": "IJtXY488RV29",
        "colab_type": "code",
        "colab": {}
      },
      "source": [
        "from sklearn.neighbors import NearestCentroid\n",
        "\n",
        "nc = NearestCentroid()\n",
        "nc.fit(X_train_waveform, y_train)\n",
        "nc.score(X_test_waveform, y_test)"
      ],
      "execution_count": null,
      "outputs": []
    },
    {
      "cell_type": "markdown",
      "metadata": {
        "id": "FFH7mWP92zK-",
        "colab_type": "text"
      },
      "source": [
        "Essayez ***NearestCentroid*** avec toutes les données (X_filtered, X_sampled, X_mfcc) que nous avons créées avant pour ***KNeighbors***"
      ]
    },
    {
      "cell_type": "code",
      "metadata": {
        "id": "KzazGWbo3QGk",
        "colab_type": "code",
        "colab": {}
      },
      "source": [
        "## A completer"
      ],
      "execution_count": null,
      "outputs": []
    },
    {
      "cell_type": "markdown",
      "metadata": {
        "id": "u-xUBZVe3s2r",
        "colab_type": "text"
      },
      "source": [
        "Il est important d'analyser ce qui s'est passé si nous utilisons deux classes très similaires. Un simple algorithme basé sur les voisins suffit-il pour classer les classes difficiles ?\n",
        "\n",
        "Vous pouvez essayer de classer deux classes similaires comme ***three*** et ***tree***."
      ]
    },
    {
      "cell_type": "code",
      "metadata": {
        "id": "ltb57J-VV2SM",
        "colab_type": "code",
        "colab": {}
      },
      "source": [
        "chosen_classes = [\"tree\", \"three\"]"
      ],
      "execution_count": null,
      "outputs": []
    },
    {
      "cell_type": "code",
      "metadata": {
        "id": "TjJ0hviAV5vA",
        "colab_type": "code",
        "colab": {}
      },
      "source": [
        "X = []\n",
        "for class_name in chosen_classes:\n",
        "  class_path = dataset_path + class_name\n",
        "  for audio_path in glob.glob(class_path + \"/*.wav\"):\n",
        "    X.append(audio_path)"
      ],
      "execution_count": null,
      "outputs": []
    },
    {
      "cell_type": "code",
      "metadata": {
        "id": "1yE_rANJV9PJ",
        "colab_type": "code",
        "colab": {}
      },
      "source": [
        "y = []\n",
        "for audio_path in X:\n",
        "  y.append(audio_path.split('/')[-2])\n",
        "print(y)"
      ],
      "execution_count": null,
      "outputs": []
    },
    {
      "cell_type": "code",
      "metadata": {
        "id": "hqNejnr2WATc",
        "colab_type": "code",
        "colab": {}
      },
      "source": [
        "le = preprocessing.LabelEncoder()\n",
        "le.fit(y)\n",
        "y = le.transform(y)\n",
        "print(y)"
      ],
      "execution_count": null,
      "outputs": []
    },
    {
      "cell_type": "code",
      "metadata": {
        "id": "BjycTdTRWChG",
        "colab_type": "code",
        "colab": {}
      },
      "source": [
        "X_train, X_test, y_train, y_test = train_test_split(X ,y , test_size=0.2, stratify=y)\n",
        "X_test, X_val, y_test, y_val = train_test_split(X_test, y_test, test_size=0.5, stratify=y_test)\n",
        "\n",
        "print('training samples:',len(X_train))\n",
        "print('testing samples:',len(X_test))\n",
        "print('validation samples:',len(X_val))"
      ],
      "execution_count": null,
      "outputs": []
    },
    {
      "cell_type": "code",
      "metadata": {
        "id": "N1rDyOa0WKd6",
        "colab_type": "code",
        "colab": {}
      },
      "source": [
        "X_train_waveform = [get_signal(path) for path in tqdm(X_train,position=0)]\n",
        "X_test_waveform = [get_signal(path) for path in tqdm(X_test,position=0)]"
      ],
      "execution_count": null,
      "outputs": []
    },
    {
      "cell_type": "code",
      "metadata": {
        "id": "Rs-OaxBsWOvD",
        "colab_type": "code",
        "colab": {}
      },
      "source": [
        "X_train_mfcc = [get_mfcc_from_signal(signal) for signal in tqdm(X_train_waveform,position=0)]\n",
        "X_test_mfcc = [get_mfcc_from_signal(signal) for signal in tqdm(X_test_waveform,position=0)]"
      ],
      "execution_count": null,
      "outputs": []
    },
    {
      "cell_type": "code",
      "metadata": {
        "id": "qFoKd7zHWQ87",
        "colab_type": "code",
        "colab": {}
      },
      "source": [
        "X_train_mfcc = np.asarray(X_train_mfcc)\n",
        "X_test_mfcc = np.asarray(X_test_mfcc)\n",
        "\n",
        "X_train_mfcc_flatten = X_train_mfcc.reshape(X_train_mfcc.shape[0], X_train_mfcc.shape[1] * X_train_mfcc.shape[2])\n",
        "X_test_mfcc_flatten = X_test_mfcc.reshape(X_test_mfcc.shape[0], X_test_mfcc.shape[1] * X_test_mfcc.shape[2])"
      ],
      "execution_count": null,
      "outputs": []
    },
    {
      "cell_type": "code",
      "metadata": {
        "id": "z4bKky7WWY7b",
        "colab_type": "code",
        "colab": {}
      },
      "source": [
        "knn_mfcc = KNeighborsClassifier(n_neighbors=5)\n",
        "knn_mfcc.fit(X_train_mfcc_flatten, y_train)\n",
        "knn_mfcc.score(X_test_mfcc_flatten, y_test)"
      ],
      "execution_count": null,
      "outputs": []
    },
    {
      "cell_type": "markdown",
      "metadata": {
        "id": "rr8tJs6e4Lv4",
        "colab_type": "text"
      },
      "source": [
        "Comment sont les résultats ?\n",
        "\n",
        "Le score est très différent de celui obtenu avec les deux autres classes ?\n",
        "\n",
        "Est-ce à cause du k ? Peut-être que nous n'utilisons pas le bon k pour ces classes"
      ]
    },
    {
      "cell_type": "code",
      "metadata": {
        "id": "XlPVYxL84e8b",
        "colab_type": "code",
        "colab": {}
      },
      "source": [
        "check_results_different_k(3, 10, X_train_mfcc_flatten, X_test_mfcc_flatten)"
      ],
      "execution_count": null,
      "outputs": []
    }
  ]
}
